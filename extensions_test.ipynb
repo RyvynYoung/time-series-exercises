{
 "cells": [
  {
   "cell_type": "code",
   "execution_count": 1,
   "metadata": {
    "slideshow": {
     "slide_type": "skip"
    }
   },
   "outputs": [],
   "source": [
    "import pandas as pd\n",
    "import numpy as np\n",
    "import random\n",
    "people =['Tina', 'Franco', 'Krys', 'Abi', 'Juan', 'Alex']"
   ]
  },
  {
   "cell_type": "code",
   "execution_count": 2,
   "metadata": {
    "slideshow": {
     "slide_type": "slide"
    }
   },
   "outputs": [],
   "source": [
    "Mon = np.random.choice([41, 32, 38, 44, 15, 26], len(people))\n",
    "Tues =  np.random.choice([41, 32, 38, 44, 15, 26], len(people))\n",
    "Wed =  np.random.choice([41, 32, 38, 44, 15, 26], len(people))\n",
    "Thurs = np.random.choice([41, 32, 38, 44, 15, 26], len(people))\n",
    "Fri = np.random.choice([41, 32, 38, 44, 15, 26], len(people))"
   ]
  },
  {
   "cell_type": "code",
   "execution_count": 16,
   "metadata": {},
   "outputs": [
    {
     "data": {
      "text/html": [
       "<div>\n",
       "<style scoped>\n",
       "    .dataframe tbody tr th:only-of-type {\n",
       "        vertical-align: middle;\n",
       "    }\n",
       "\n",
       "    .dataframe tbody tr th {\n",
       "        vertical-align: top;\n",
       "    }\n",
       "\n",
       "    .dataframe thead th {\n",
       "        text-align: right;\n",
       "    }\n",
       "</style>\n",
       "<table border=\"1\" class=\"dataframe\">\n",
       "  <thead>\n",
       "    <tr style=\"text-align: right;\">\n",
       "      <th></th>\n",
       "      <th>Mon</th>\n",
       "      <th>Tues</th>\n",
       "      <th>Wed</th>\n",
       "      <th>Thurs</th>\n",
       "      <th>Fri</th>\n",
       "    </tr>\n",
       "  </thead>\n",
       "  <tbody>\n",
       "    <tr>\n",
       "      <th>Tina</th>\n",
       "      <td>41</td>\n",
       "      <td>26</td>\n",
       "      <td>41</td>\n",
       "      <td>26</td>\n",
       "      <td>38</td>\n",
       "    </tr>\n",
       "    <tr>\n",
       "      <th>Franco</th>\n",
       "      <td>44</td>\n",
       "      <td>44</td>\n",
       "      <td>41</td>\n",
       "      <td>32</td>\n",
       "      <td>26</td>\n",
       "    </tr>\n",
       "    <tr>\n",
       "      <th>Krys</th>\n",
       "      <td>44</td>\n",
       "      <td>38</td>\n",
       "      <td>26</td>\n",
       "      <td>15</td>\n",
       "      <td>38</td>\n",
       "    </tr>\n",
       "    <tr>\n",
       "      <th>Abi</th>\n",
       "      <td>44</td>\n",
       "      <td>44</td>\n",
       "      <td>41</td>\n",
       "      <td>38</td>\n",
       "      <td>44</td>\n",
       "    </tr>\n",
       "    <tr>\n",
       "      <th>Juan</th>\n",
       "      <td>26</td>\n",
       "      <td>38</td>\n",
       "      <td>41</td>\n",
       "      <td>44</td>\n",
       "      <td>38</td>\n",
       "    </tr>\n",
       "    <tr>\n",
       "      <th>Alex</th>\n",
       "      <td>32</td>\n",
       "      <td>44</td>\n",
       "      <td>44</td>\n",
       "      <td>15</td>\n",
       "      <td>44</td>\n",
       "    </tr>\n",
       "  </tbody>\n",
       "</table>\n",
       "</div>"
      ],
      "text/plain": [
       "        Mon  Tues  Wed  Thurs  Fri\n",
       "Tina     41    26   41     26   38\n",
       "Franco   44    44   41     32   26\n",
       "Krys     44    38   26     15   38\n",
       "Abi      44    44   41     38   44\n",
       "Juan     26    38   41     44   38\n",
       "Alex     32    44   44     15   44"
      ]
     },
     "execution_count": 16,
     "metadata": {},
     "output_type": "execute_result"
    }
   ],
   "source": [
    "UPH = { \n",
    "    'Mon': Mon, 'Tues': Tues, 'Wed': Wed, 'Thurs': Thurs, 'Fri': Fri}\n",
    "\n",
    "UPH_TS_df = pd.DataFrame(UPH, index=['Tina', 'Franco', 'Krys', 'Abi', 'Juan', 'Alex'],)\n",
    "UPH_TS_df"
   ]
  },
  {
   "cell_type": "code",
   "execution_count": 19,
   "metadata": {},
   "outputs": [],
   "source": [
    "UPH_R2 = UPH_TS_df.T"
   ]
  },
  {
   "cell_type": "code",
   "execution_count": 20,
   "metadata": {
    "slideshow": {
     "slide_type": "slide"
    }
   },
   "outputs": [
    {
     "data": {
      "text/html": [
       "<div>\n",
       "<style scoped>\n",
       "    .dataframe tbody tr th:only-of-type {\n",
       "        vertical-align: middle;\n",
       "    }\n",
       "\n",
       "    .dataframe tbody tr th {\n",
       "        vertical-align: top;\n",
       "    }\n",
       "\n",
       "    .dataframe thead th {\n",
       "        text-align: right;\n",
       "    }\n",
       "</style>\n",
       "<table border=\"1\" class=\"dataframe\">\n",
       "  <thead>\n",
       "    <tr style=\"text-align: right;\">\n",
       "      <th></th>\n",
       "      <th>Tina</th>\n",
       "      <th>Franco</th>\n",
       "      <th>Krys</th>\n",
       "      <th>Abi</th>\n",
       "      <th>Juan</th>\n",
       "      <th>Alex</th>\n",
       "    </tr>\n",
       "  </thead>\n",
       "  <tbody>\n",
       "    <tr>\n",
       "      <th>Mon</th>\n",
       "      <td>41</td>\n",
       "      <td>44</td>\n",
       "      <td>44</td>\n",
       "      <td>44</td>\n",
       "      <td>26</td>\n",
       "      <td>32</td>\n",
       "    </tr>\n",
       "    <tr>\n",
       "      <th>Tues</th>\n",
       "      <td>26</td>\n",
       "      <td>44</td>\n",
       "      <td>38</td>\n",
       "      <td>44</td>\n",
       "      <td>38</td>\n",
       "      <td>44</td>\n",
       "    </tr>\n",
       "    <tr>\n",
       "      <th>Wed</th>\n",
       "      <td>41</td>\n",
       "      <td>41</td>\n",
       "      <td>26</td>\n",
       "      <td>41</td>\n",
       "      <td>41</td>\n",
       "      <td>44</td>\n",
       "    </tr>\n",
       "    <tr>\n",
       "      <th>Thurs</th>\n",
       "      <td>26</td>\n",
       "      <td>32</td>\n",
       "      <td>15</td>\n",
       "      <td>38</td>\n",
       "      <td>44</td>\n",
       "      <td>15</td>\n",
       "    </tr>\n",
       "    <tr>\n",
       "      <th>Fri</th>\n",
       "      <td>38</td>\n",
       "      <td>26</td>\n",
       "      <td>38</td>\n",
       "      <td>44</td>\n",
       "      <td>38</td>\n",
       "      <td>44</td>\n",
       "    </tr>\n",
       "  </tbody>\n",
       "</table>\n",
       "</div>"
      ],
      "text/plain": [
       "       Tina  Franco  Krys  Abi  Juan  Alex\n",
       "Mon      41      44    44   44    26    32\n",
       "Tues     26      44    38   44    38    44\n",
       "Wed      41      41    26   41    41    44\n",
       "Thurs    26      32    15   38    44    15\n",
       "Fri      38      26    38   44    38    44"
      ]
     },
     "execution_count": 20,
     "metadata": {},
     "output_type": "execute_result"
    }
   ],
   "source": [
    "UPH_R2"
   ]
  },
  {
   "cell_type": "markdown",
   "metadata": {
    "slideshow": {
     "slide_type": "subslide"
    }
   },
   "source": [
    "To predict next day using time series I would have to build a model for each person listed.\n",
    "That person's prediction would be based on on the units per hour for the week listed and could not use other factors like the tenure/experience of the person, department assignment, or shift(time of day) as factors in prediction."
   ]
  },
  {
   "cell_type": "markdown",
   "metadata": {},
   "source": [
    "For a Regression Model I could convert this info and add features? Do I have to drop the Mon - Fri columns?"
   ]
  },
  {
   "cell_type": "code",
   "execution_count": 4,
   "metadata": {},
   "outputs": [],
   "source": [
    "UPH_R_df = UPH_TS_df.copy()#.drop(columns='pred_next_day')"
   ]
  },
  {
   "cell_type": "code",
   "execution_count": 5,
   "metadata": {},
   "outputs": [],
   "source": [
    "UPH_R_df['tenure'] = np.random.choice(['90 days', '6 months', '1 year', '2 year'], UPH_R_df.shape[0])\n",
    "UPH_R_df['current_ave'] = UPH_TS_df.mean(axis=1)\n",
    "UPH_R_df['last_month_average'] = np.random.randint(25, 50, UPH_R_df.shape[0])\n",
    "UPH_R_df['Dept_num'] = np.random.choice(['21', '23', '26', '28'], UPH_R_df.shape[0])\n",
    "\n",
    "UPH_R_df['pred_next_day'] = [\"?\", \"?\", \"?\", \"?\", \"?\", \"?\"]"
   ]
  },
  {
   "cell_type": "code",
   "execution_count": 6,
   "metadata": {
    "slideshow": {
     "slide_type": "slide"
    }
   },
   "outputs": [
    {
     "data": {
      "text/html": [
       "<div>\n",
       "<style scoped>\n",
       "    .dataframe tbody tr th:only-of-type {\n",
       "        vertical-align: middle;\n",
       "    }\n",
       "\n",
       "    .dataframe tbody tr th {\n",
       "        vertical-align: top;\n",
       "    }\n",
       "\n",
       "    .dataframe thead th {\n",
       "        text-align: right;\n",
       "    }\n",
       "</style>\n",
       "<table border=\"1\" class=\"dataframe\">\n",
       "  <thead>\n",
       "    <tr style=\"text-align: right;\">\n",
       "      <th></th>\n",
       "      <th>Name</th>\n",
       "      <th>Mon</th>\n",
       "      <th>Tues</th>\n",
       "      <th>Wed</th>\n",
       "      <th>Thurs</th>\n",
       "      <th>Fri</th>\n",
       "      <th>tenure</th>\n",
       "      <th>current_ave</th>\n",
       "      <th>last_month_average</th>\n",
       "      <th>Dept_num</th>\n",
       "      <th>pred_next_day</th>\n",
       "    </tr>\n",
       "  </thead>\n",
       "  <tbody>\n",
       "    <tr>\n",
       "      <th>0</th>\n",
       "      <td>Tina</td>\n",
       "      <td>41</td>\n",
       "      <td>26</td>\n",
       "      <td>41</td>\n",
       "      <td>26</td>\n",
       "      <td>38</td>\n",
       "      <td>2 year</td>\n",
       "      <td>34.4</td>\n",
       "      <td>28</td>\n",
       "      <td>23</td>\n",
       "      <td>?</td>\n",
       "    </tr>\n",
       "    <tr>\n",
       "      <th>1</th>\n",
       "      <td>Franco</td>\n",
       "      <td>44</td>\n",
       "      <td>44</td>\n",
       "      <td>41</td>\n",
       "      <td>32</td>\n",
       "      <td>26</td>\n",
       "      <td>1 year</td>\n",
       "      <td>37.4</td>\n",
       "      <td>42</td>\n",
       "      <td>23</td>\n",
       "      <td>?</td>\n",
       "    </tr>\n",
       "    <tr>\n",
       "      <th>2</th>\n",
       "      <td>Krys</td>\n",
       "      <td>44</td>\n",
       "      <td>38</td>\n",
       "      <td>26</td>\n",
       "      <td>15</td>\n",
       "      <td>38</td>\n",
       "      <td>2 year</td>\n",
       "      <td>32.2</td>\n",
       "      <td>39</td>\n",
       "      <td>26</td>\n",
       "      <td>?</td>\n",
       "    </tr>\n",
       "    <tr>\n",
       "      <th>3</th>\n",
       "      <td>Abi</td>\n",
       "      <td>44</td>\n",
       "      <td>44</td>\n",
       "      <td>41</td>\n",
       "      <td>38</td>\n",
       "      <td>44</td>\n",
       "      <td>90 days</td>\n",
       "      <td>42.2</td>\n",
       "      <td>27</td>\n",
       "      <td>28</td>\n",
       "      <td>?</td>\n",
       "    </tr>\n",
       "    <tr>\n",
       "      <th>4</th>\n",
       "      <td>Juan</td>\n",
       "      <td>26</td>\n",
       "      <td>38</td>\n",
       "      <td>41</td>\n",
       "      <td>44</td>\n",
       "      <td>38</td>\n",
       "      <td>6 months</td>\n",
       "      <td>37.4</td>\n",
       "      <td>40</td>\n",
       "      <td>26</td>\n",
       "      <td>?</td>\n",
       "    </tr>\n",
       "    <tr>\n",
       "      <th>5</th>\n",
       "      <td>Alex</td>\n",
       "      <td>32</td>\n",
       "      <td>44</td>\n",
       "      <td>44</td>\n",
       "      <td>15</td>\n",
       "      <td>44</td>\n",
       "      <td>1 year</td>\n",
       "      <td>35.8</td>\n",
       "      <td>27</td>\n",
       "      <td>21</td>\n",
       "      <td>?</td>\n",
       "    </tr>\n",
       "  </tbody>\n",
       "</table>\n",
       "</div>"
      ],
      "text/plain": [
       "     Name  Mon  Tues  Wed  Thurs  Fri    tenure  current_ave  \\\n",
       "0    Tina   41    26   41     26   38    2 year         34.4   \n",
       "1  Franco   44    44   41     32   26    1 year         37.4   \n",
       "2    Krys   44    38   26     15   38    2 year         32.2   \n",
       "3     Abi   44    44   41     38   44   90 days         42.2   \n",
       "4    Juan   26    38   41     44   38  6 months         37.4   \n",
       "5    Alex   32    44   44     15   44    1 year         35.8   \n",
       "\n",
       "   last_month_average Dept_num pred_next_day  \n",
       "0                  28       23             ?  \n",
       "1                  42       23             ?  \n",
       "2                  39       26             ?  \n",
       "3                  27       28             ?  \n",
       "4                  40       26             ?  \n",
       "5                  27       21             ?  "
      ]
     },
     "execution_count": 6,
     "metadata": {},
     "output_type": "execute_result"
    }
   ],
   "source": [
    "UPH_R_df"
   ]
  },
  {
   "cell_type": "code",
   "execution_count": null,
   "metadata": {},
   "outputs": [],
   "source": []
  }
 ],
 "metadata": {
  "kernelspec": {
   "display_name": "Python 3",
   "language": "python",
   "name": "python3"
  },
  "language_info": {
   "codemirror_mode": {
    "name": "ipython",
    "version": 3
   },
   "file_extension": ".py",
   "mimetype": "text/x-python",
   "name": "python",
   "nbconvert_exporter": "python",
   "pygments_lexer": "ipython3",
   "version": "3.7.6"
  },
  "toc": {
   "base_numbering": 1,
   "nav_menu": {},
   "number_sections": true,
   "sideBar": true,
   "skip_h1_title": false,
   "title_cell": "Table of Contents",
   "title_sidebar": "Contents",
   "toc_cell": false,
   "toc_position": {},
   "toc_section_display": true,
   "toc_window_display": false
  }
 },
 "nbformat": 4,
 "nbformat_minor": 4
}

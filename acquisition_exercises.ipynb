{
 "cells": [
  {
   "cell_type": "markdown",
   "metadata": {},
   "source": [
    "# Data Acquisition Exercises\n",
    "\n",
    "The end result of this exercise should be a file named acquire.py.\n",
    "\n",
    "1. Using the code from the lesson as a guide, create a dataframe named items that has all of the data for items.\n",
    "\n",
    "2. Do the same thing, but for stores.\n",
    "\n",
    "3. Extract the data for sales. There are a lot of pages of data here, so your code will need to be a little more complex. Your code should continue fetching data from the next page until all of the data is extracted.\n",
    "\n",
    "4. Save the data in your files to local csv files so that it will be faster to access in the future.\n",
    "\n",
    "5. Combine the data from your three separate dataframes into one large dataframe.\n",
    "\n",
    "6. Acquire the Open Power Systems Data for Germany, which has been rapidly expanding its renewable energy production in recent years. The data set includes country-wide totals of electricity consumption, wind power production, and solar power production for 2006-2017. You can get the data here: https://raw.githubusercontent.com/jenfly/opsd/master/opsd_germany_daily.csv\n",
    "\n",
    "7. Make sure all the work that you have done above is reproducible. That is, you should put the code above into separate functions in the acquire.py file and be able to re-run the functions and get the same data."
   ]
  },
  {
   "cell_type": "code",
   "execution_count": 1,
   "metadata": {},
   "outputs": [],
   "source": [
    "import requests\n",
    "import pandas as pd"
   ]
  },
  {
   "cell_type": "code",
   "execution_count": 2,
   "metadata": {},
   "outputs": [
    {
     "name": "stdout",
     "output_type": "stream",
     "text": [
      "{\"name\":\"Leia Organa\",\"height\":\"150\",\"mass\":\"49\",\"hair_color\":\"brown\",\"skin_color\":\"light\",\"eye_color\":\"brown\",\"birth_year\":\"19BBY\",\"gender\":\"female\",\"homeworld\":\"http://swapi.dev/api/planets/2/\",\"films\":[\"http://swapi.dev/api/films/1/\",\"http://swapi.dev/api/films/2/\",\"http://swapi.dev/api/films/3/\",\"http://swapi.dev/api/films/6/\"],\"species\":[],\"vehicles\":[\"http://swapi.dev/api/vehicles/30/\"],\"starships\":[],\"created\":\"2014-12-10T15:20:09.791000Z\",\"edited\":\"2014-12-20T21:17:50.315000Z\",\"url\":\"http://swapi.dev/api/people/5/\"}\n"
     ]
    }
   ],
   "source": [
    "# query example from curriculum\n",
    "url = 'https://swapi.dev/api/people/5'\n",
    "response = requests.get(url)\n",
    "print(response.text)"
   ]
  },
  {
   "cell_type": "code",
   "execution_count": 3,
   "metadata": {},
   "outputs": [
    {
     "name": "stdout",
     "output_type": "stream",
     "text": [
      "<class 'dict'>\n"
     ]
    },
    {
     "data": {
      "text/plain": [
       "{'name': 'Leia Organa',\n",
       " 'height': '150',\n",
       " 'mass': '49',\n",
       " 'hair_color': 'brown',\n",
       " 'skin_color': 'light',\n",
       " 'eye_color': 'brown',\n",
       " 'birth_year': '19BBY',\n",
       " 'gender': 'female',\n",
       " 'homeworld': 'http://swapi.dev/api/planets/2/',\n",
       " 'films': ['http://swapi.dev/api/films/1/',\n",
       "  'http://swapi.dev/api/films/2/',\n",
       "  'http://swapi.dev/api/films/3/',\n",
       "  'http://swapi.dev/api/films/6/'],\n",
       " 'species': [],\n",
       " 'vehicles': ['http://swapi.dev/api/vehicles/30/'],\n",
       " 'starships': [],\n",
       " 'created': '2014-12-10T15:20:09.791000Z',\n",
       " 'edited': '2014-12-20T21:17:50.315000Z',\n",
       " 'url': 'http://swapi.dev/api/people/5/'}"
      ]
     },
     "execution_count": 3,
     "metadata": {},
     "output_type": "execute_result"
    }
   ],
   "source": [
    "# convert the response to an object we can work with\n",
    "data = response.json()\n",
    "print(type(data))\n",
    "data"
   ]
  },
  {
   "cell_type": "code",
   "execution_count": 4,
   "metadata": {},
   "outputs": [
    {
     "name": "stdout",
     "output_type": "stream",
     "text": [
      "{\"api\":\"/api/v1\",\"help\":\"/documentation\"}\n",
      "\n"
     ]
    }
   ],
   "source": [
    "# 1. Using the code from the lesson as a guide, create a dataframe named items that has all of the data\n",
    "# for items.\n",
    "base_url = 'https://python.zach.lol'\n",
    "print(requests.get(base_url).text)"
   ]
  },
  {
   "cell_type": "code",
   "execution_count": 5,
   "metadata": {},
   "outputs": [
    {
     "name": "stdout",
     "output_type": "stream",
     "text": [
      "\n",
      "The API accepts GET requests for all endpoints, where endpoints are prefixed\n",
      "with\n",
      "\n",
      "    /api/{version}\n",
      "\n",
      "Where version is \"v1\"\n",
      "\n",
      "Valid endpoints:\n",
      "\n",
      "- /stores[/{store_id}]\n",
      "- /items[/{item_id}]\n",
      "- /sales[/{sale_id}]\n",
      "\n",
      "All endpoints accept a `page` parameter that can be used to navigate through\n",
      "the results.\n",
      "\n"
     ]
    }
   ],
   "source": [
    "# the response says there is documentation\n",
    "# request the documentation\n",
    "response = requests.get(base_url + '/documentation')\n",
    "print(response.json()['payload'])"
   ]
  },
  {
   "cell_type": "code",
   "execution_count": 6,
   "metadata": {},
   "outputs": [
    {
     "data": {
      "text/plain": [
       "dict_keys(['payload', 'status'])"
      ]
     },
     "execution_count": 6,
     "metadata": {},
     "output_type": "execute_result"
    }
   ],
   "source": [
    "response = requests.get('https://python.zach.lol/api/v1/items')\n",
    "\n",
    "data = response.json()\n",
    "data.keys()"
   ]
  },
  {
   "cell_type": "code",
   "execution_count": 7,
   "metadata": {},
   "outputs": [
    {
     "data": {
      "text/plain": [
       "dict_keys(['items', 'max_page', 'next_page', 'page', 'previous_page'])"
      ]
     },
     "execution_count": 7,
     "metadata": {},
     "output_type": "execute_result"
    }
   ],
   "source": [
    "data['payload'].keys()"
   ]
  },
  {
   "cell_type": "code",
   "execution_count": 8,
   "metadata": {},
   "outputs": [
    {
     "name": "stdout",
     "output_type": "stream",
     "text": [
      "max_page: 3\n",
      "next_page: /api/v1/items?page=2\n"
     ]
    }
   ],
   "source": [
    "print('max_page: %s' % data['payload']['max_page'])\n",
    "print('next_page: %s' % data['payload']['next_page'])"
   ]
  },
  {
   "cell_type": "code",
   "execution_count": 9,
   "metadata": {},
   "outputs": [
    {
     "data": {
      "text/plain": [
       "[{'item_brand': 'Riceland',\n",
       "  'item_id': 1,\n",
       "  'item_name': 'Riceland American Jazmine Rice',\n",
       "  'item_price': 0.84,\n",
       "  'item_upc12': '35200264013',\n",
       "  'item_upc14': '35200264013'},\n",
       " {'item_brand': 'Caress',\n",
       "  'item_id': 2,\n",
       "  'item_name': 'Caress Velvet Bliss Ultra Silkening Beauty Bar - 6 Ct',\n",
       "  'item_price': 6.44,\n",
       "  'item_upc12': '11111065925',\n",
       "  'item_upc14': '11111065925'}]"
      ]
     },
     "execution_count": 9,
     "metadata": {},
     "output_type": "execute_result"
    }
   ],
   "source": [
    "data['payload']['items'][:2]"
   ]
  },
  {
   "cell_type": "code",
   "execution_count": 10,
   "metadata": {},
   "outputs": [
    {
     "data": {
      "text/html": [
       "<div>\n",
       "<style scoped>\n",
       "    .dataframe tbody tr th:only-of-type {\n",
       "        vertical-align: middle;\n",
       "    }\n",
       "\n",
       "    .dataframe tbody tr th {\n",
       "        vertical-align: top;\n",
       "    }\n",
       "\n",
       "    .dataframe thead th {\n",
       "        text-align: right;\n",
       "    }\n",
       "</style>\n",
       "<table border=\"1\" class=\"dataframe\">\n",
       "  <thead>\n",
       "    <tr style=\"text-align: right;\">\n",
       "      <th></th>\n",
       "      <th>item_brand</th>\n",
       "      <th>item_id</th>\n",
       "      <th>item_name</th>\n",
       "      <th>item_price</th>\n",
       "      <th>item_upc12</th>\n",
       "      <th>item_upc14</th>\n",
       "    </tr>\n",
       "  </thead>\n",
       "  <tbody>\n",
       "    <tr>\n",
       "      <th>0</th>\n",
       "      <td>Riceland</td>\n",
       "      <td>1</td>\n",
       "      <td>Riceland American Jazmine Rice</td>\n",
       "      <td>0.84</td>\n",
       "      <td>35200264013</td>\n",
       "      <td>35200264013</td>\n",
       "    </tr>\n",
       "    <tr>\n",
       "      <th>1</th>\n",
       "      <td>Caress</td>\n",
       "      <td>2</td>\n",
       "      <td>Caress Velvet Bliss Ultra Silkening Beauty Bar...</td>\n",
       "      <td>6.44</td>\n",
       "      <td>11111065925</td>\n",
       "      <td>11111065925</td>\n",
       "    </tr>\n",
       "    <tr>\n",
       "      <th>2</th>\n",
       "      <td>Earths Best</td>\n",
       "      <td>3</td>\n",
       "      <td>Earths Best Organic Fruit Yogurt Smoothie Mixe...</td>\n",
       "      <td>2.43</td>\n",
       "      <td>23923330139</td>\n",
       "      <td>23923330139</td>\n",
       "    </tr>\n",
       "    <tr>\n",
       "      <th>3</th>\n",
       "      <td>Boars Head</td>\n",
       "      <td>4</td>\n",
       "      <td>Boars Head Sliced White American Cheese - 120 Ct</td>\n",
       "      <td>3.14</td>\n",
       "      <td>208528800007</td>\n",
       "      <td>208528800007</td>\n",
       "    </tr>\n",
       "    <tr>\n",
       "      <th>4</th>\n",
       "      <td>Back To Nature</td>\n",
       "      <td>5</td>\n",
       "      <td>Back To Nature Gluten Free White Cheddar Rice ...</td>\n",
       "      <td>2.61</td>\n",
       "      <td>759283100036</td>\n",
       "      <td>759283100036</td>\n",
       "    </tr>\n",
       "  </tbody>\n",
       "</table>\n",
       "</div>"
      ],
      "text/plain": [
       "       item_brand  item_id                                          item_name  \\\n",
       "0        Riceland        1                     Riceland American Jazmine Rice   \n",
       "1          Caress        2  Caress Velvet Bliss Ultra Silkening Beauty Bar...   \n",
       "2     Earths Best        3  Earths Best Organic Fruit Yogurt Smoothie Mixe...   \n",
       "3      Boars Head        4   Boars Head Sliced White American Cheese - 120 Ct   \n",
       "4  Back To Nature        5  Back To Nature Gluten Free White Cheddar Rice ...   \n",
       "\n",
       "   item_price    item_upc12    item_upc14  \n",
       "0        0.84   35200264013   35200264013  \n",
       "1        6.44   11111065925   11111065925  \n",
       "2        2.43   23923330139   23923330139  \n",
       "3        3.14  208528800007  208528800007  \n",
       "4        2.61  759283100036  759283100036  "
      ]
     },
     "execution_count": 10,
     "metadata": {},
     "output_type": "execute_result"
    }
   ],
   "source": [
    "df = pd.DataFrame(data['payload']['items'])\n",
    "df.head()"
   ]
  },
  {
   "cell_type": "code",
   "execution_count": 11,
   "metadata": {},
   "outputs": [
    {
     "data": {
      "text/plain": [
       "(20, 6)"
      ]
     },
     "execution_count": 11,
     "metadata": {},
     "output_type": "execute_result"
    }
   ],
   "source": [
    "df.shape"
   ]
  },
  {
   "cell_type": "code",
   "execution_count": 12,
   "metadata": {},
   "outputs": [
    {
     "name": "stdout",
     "output_type": "stream",
     "text": [
      "max_page: 3\n",
      "next_page: /api/v1/items?page=3\n"
     ]
    }
   ],
   "source": [
    "response = requests.get(base_url + data['payload']['next_page'])\n",
    "data = response.json()\n",
    "\n",
    "print('max_page: %s' % data['payload']['max_page'])\n",
    "print('next_page: %s' % data['payload']['next_page'])\n",
    "\n",
    "df = pd.concat([df, pd.DataFrame(data['payload']['items'])]).reset_index()"
   ]
  },
  {
   "cell_type": "code",
   "execution_count": 13,
   "metadata": {},
   "outputs": [
    {
     "name": "stdout",
     "output_type": "stream",
     "text": [
      "max_page: 3\n",
      "next_page: None\n"
     ]
    }
   ],
   "source": [
    "response = requests.get(base_url + data['payload']['next_page'])\n",
    "data = response.json()\n",
    "\n",
    "print('max_page: %s' % data['payload']['max_page'])\n",
    "print('next_page: %s' % data['payload']['next_page'])\n",
    "\n",
    "df = pd.concat([df, pd.DataFrame(data['payload']['items'])]).reset_index()"
   ]
  },
  {
   "cell_type": "code",
   "execution_count": 14,
   "metadata": {},
   "outputs": [
    {
     "data": {
      "text/plain": [
       "(50, 8)"
      ]
     },
     "execution_count": 14,
     "metadata": {},
     "output_type": "execute_result"
    }
   ],
   "source": [
    "df.shape"
   ]
  },
  {
   "cell_type": "code",
   "execution_count": 15,
   "metadata": {},
   "outputs": [
    {
     "data": {
      "text/plain": [
       "dict_keys(['payload', 'status'])"
      ]
     },
     "execution_count": 15,
     "metadata": {},
     "output_type": "execute_result"
    }
   ],
   "source": [
    "# 2. Do the same thing, but for stores\n",
    "\n",
    "response = requests.get('https://python.zach.lol/api/v1/stores')\n",
    "\n",
    "data = response.json()\n",
    "data.keys()"
   ]
  },
  {
   "cell_type": "code",
   "execution_count": 16,
   "metadata": {},
   "outputs": [
    {
     "data": {
      "text/plain": [
       "dict_keys(['max_page', 'next_page', 'page', 'previous_page', 'stores'])"
      ]
     },
     "execution_count": 16,
     "metadata": {},
     "output_type": "execute_result"
    }
   ],
   "source": [
    "data['payload'].keys()"
   ]
  },
  {
   "cell_type": "code",
   "execution_count": 17,
   "metadata": {},
   "outputs": [
    {
     "name": "stdout",
     "output_type": "stream",
     "text": [
      "max_page: 1\n",
      "next_page: None\n"
     ]
    }
   ],
   "source": [
    "print('max_page: %s' % data['payload']['max_page'])\n",
    "print('next_page: %s' % data['payload']['next_page'])"
   ]
  },
  {
   "cell_type": "code",
   "execution_count": 18,
   "metadata": {},
   "outputs": [
    {
     "data": {
      "text/plain": [
       "[{'store_address': '12125 Alamo Ranch Pkwy',\n",
       "  'store_city': 'San Antonio',\n",
       "  'store_id': 1,\n",
       "  'store_state': 'TX',\n",
       "  'store_zipcode': '78253'},\n",
       " {'store_address': '9255 FM 471 West',\n",
       "  'store_city': 'San Antonio',\n",
       "  'store_id': 2,\n",
       "  'store_state': 'TX',\n",
       "  'store_zipcode': '78251'},\n",
       " {'store_address': '2118 Fredericksburg Rdj',\n",
       "  'store_city': 'San Antonio',\n",
       "  'store_id': 3,\n",
       "  'store_state': 'TX',\n",
       "  'store_zipcode': '78201'},\n",
       " {'store_address': '516 S Flores St',\n",
       "  'store_city': 'San Antonio',\n",
       "  'store_id': 4,\n",
       "  'store_state': 'TX',\n",
       "  'store_zipcode': '78204'},\n",
       " {'store_address': '1520 Austin Hwy',\n",
       "  'store_city': 'San Antonio',\n",
       "  'store_id': 5,\n",
       "  'store_state': 'TX',\n",
       "  'store_zipcode': '78218'},\n",
       " {'store_address': '1015 S WW White Rd',\n",
       "  'store_city': 'San Antonio',\n",
       "  'store_id': 6,\n",
       "  'store_state': 'TX',\n",
       "  'store_zipcode': '78220'},\n",
       " {'store_address': '12018 Perrin Beitel Rd',\n",
       "  'store_city': 'San Antonio',\n",
       "  'store_id': 7,\n",
       "  'store_state': 'TX',\n",
       "  'store_zipcode': '78217'},\n",
       " {'store_address': '15000 San Pedro Ave',\n",
       "  'store_city': 'San Antonio',\n",
       "  'store_id': 8,\n",
       "  'store_state': 'TX',\n",
       "  'store_zipcode': '78232'},\n",
       " {'store_address': '735 SW Military Dr',\n",
       "  'store_city': 'San Antonio',\n",
       "  'store_id': 9,\n",
       "  'store_state': 'TX',\n",
       "  'store_zipcode': '78221'},\n",
       " {'store_address': '8503 NW Military Hwy',\n",
       "  'store_city': 'San Antonio',\n",
       "  'store_id': 10,\n",
       "  'store_state': 'TX',\n",
       "  'store_zipcode': '78231'}]"
      ]
     },
     "execution_count": 18,
     "metadata": {},
     "output_type": "execute_result"
    }
   ],
   "source": [
    "data['payload']['stores']"
   ]
  },
  {
   "cell_type": "code",
   "execution_count": 19,
   "metadata": {},
   "outputs": [
    {
     "data": {
      "text/plain": [
       "(10, 5)"
      ]
     },
     "execution_count": 19,
     "metadata": {},
     "output_type": "execute_result"
    }
   ],
   "source": [
    "storesdf = pd.DataFrame(data['payload']['stores'])\n",
    "storesdf.shape"
   ]
  },
  {
   "cell_type": "markdown",
   "metadata": {},
   "source": [
    "3. Extract the data for sales. There are a lot of pages of data here, so your code will need to be a little more complex. Your code should continue fetching data from the next page until all of the data is extracted."
   ]
  },
  {
   "cell_type": "code",
   "execution_count": null,
   "metadata": {},
   "outputs": [],
   "source": [
    "response = requests.get('https://python.zach.lol/api/v1/sales')\n",
    "\n",
    "data = response.json()\n",
    "data.keys()"
   ]
  },
  {
   "cell_type": "code",
   "execution_count": 21,
   "metadata": {},
   "outputs": [
    {
     "name": "stdout",
     "output_type": "stream",
     "text": [
      "max_page: 183\n",
      "next_page: /api/v1/sales?page=2\n"
     ]
    }
   ],
   "source": [
    "print('max_page: %s' % data['payload']['max_page'])\n",
    "print('next_page: %s' % data['payload']['next_page'])"
   ]
  },
  {
   "cell_type": "code",
   "execution_count": 22,
   "metadata": {},
   "outputs": [
    {
     "data": {
      "text/plain": [
       "[{'item': 1,\n",
       "  'sale_amount': 13.0,\n",
       "  'sale_date': 'Tue, 01 Jan 2013 00:00:00 GMT',\n",
       "  'sale_id': 1,\n",
       "  'store': 1},\n",
       " {'item': 1,\n",
       "  'sale_amount': 11.0,\n",
       "  'sale_date': 'Wed, 02 Jan 2013 00:00:00 GMT',\n",
       "  'sale_id': 2,\n",
       "  'store': 1}]"
      ]
     },
     "execution_count": 22,
     "metadata": {},
     "output_type": "execute_result"
    }
   ],
   "source": [
    "data['payload']['sales'][:2]"
   ]
  },
  {
   "cell_type": "code",
   "execution_count": 23,
   "metadata": {},
   "outputs": [
    {
     "data": {
      "text/plain": [
       "(5000, 5)"
      ]
     },
     "execution_count": 23,
     "metadata": {},
     "output_type": "execute_result"
    }
   ],
   "source": [
    "sldf = pd.DataFrame(data['payload']['sales'])\n",
    "slsdf.shape"
   ]
  },
  {
   "cell_type": "code",
   "execution_count": 25,
   "metadata": {},
   "outputs": [
    {
     "name": "stdout",
     "output_type": "stream",
     "text": [
      "max_page: 183\n",
      "next_page: /api/v1/sales?page=4\n"
     ]
    }
   ],
   "source": [
    "response = requests.get(base_url + data['payload']['next_page'])\n",
    "data = response.json()\n",
    "\n",
    "print('max_page: %s' % data['payload']['max_page'])\n",
    "print('next_page: %s' % data['payload']['next_page'])\n",
    "\n",
    "salesdf = pd.concat([salesdf, pd.DataFrame(data['payload']['sales'])]).reset_index()"
   ]
  },
  {
   "cell_type": "code",
   "execution_count": 77,
   "metadata": {},
   "outputs": [],
   "source": [
    "base_url2 = 'https://python.zach.lol'\n",
    "\n",
    "def get_sales(base_url, df_name):\n",
    "    # get first page and make dataframe\n",
    "    response = requests.get('https://python.zach.lol/api/v1/sales')\n",
    "    data = response.json()\n",
    "    data.keys()\n",
    "    print('max_page: %s' % data['payload']['max_page'])\n",
    "    print('next_page: %s' % data['payload']['next_page'])\n",
    "    df_name = pd.DataFrame(data['payload']['sales'])\n",
    "    while data['payload']['next_page'] != 'None':\n",
    "        response = requests.get(base_url + data['payload']['next_page'])\n",
    "        data = response.json()\n",
    "        print('max_page: %s' % data['payload']['max_page'])\n",
    "        print('next_page: %s' % data['payload']['next_page'])\n",
    "        df_name = pd.concat([df_name, pd.DataFrame(data['payload']['sales'])])\n",
    "        if data['payload']['next_page'] == None:\n",
    "            break\n",
    "    df_name = df_name.reset_index()\n",
    "    print('full_shape', df_name.shape)\n",
    "    return df_name"
   ]
  },
  {
   "cell_type": "code",
   "execution_count": 78,
   "metadata": {},
   "outputs": [
    {
     "name": "stdout",
     "output_type": "stream",
     "text": [
      "max_page: 183\n",
      "next_page: /api/v1/sales?page=2\n",
      "max_page: 183\n",
      "next_page: /api/v1/sales?page=3\n",
      "max_page: 183\n",
      "next_page: /api/v1/sales?page=4\n",
      "max_page: 183\n",
      "next_page: /api/v1/sales?page=5\n",
      "max_page: 183\n",
      "next_page: /api/v1/sales?page=6\n",
      "max_page: 183\n",
      "next_page: /api/v1/sales?page=7\n",
      "max_page: 183\n",
      "next_page: /api/v1/sales?page=8\n",
      "max_page: 183\n",
      "next_page: /api/v1/sales?page=9\n",
      "max_page: 183\n",
      "next_page: /api/v1/sales?page=10\n",
      "max_page: 183\n",
      "next_page: /api/v1/sales?page=11\n",
      "max_page: 183\n",
      "next_page: /api/v1/sales?page=12\n",
      "max_page: 183\n",
      "next_page: /api/v1/sales?page=13\n",
      "max_page: 183\n",
      "next_page: /api/v1/sales?page=14\n",
      "max_page: 183\n",
      "next_page: /api/v1/sales?page=15\n",
      "max_page: 183\n",
      "next_page: /api/v1/sales?page=16\n",
      "max_page: 183\n",
      "next_page: /api/v1/sales?page=17\n",
      "max_page: 183\n",
      "next_page: /api/v1/sales?page=18\n",
      "max_page: 183\n",
      "next_page: /api/v1/sales?page=19\n",
      "max_page: 183\n",
      "next_page: /api/v1/sales?page=20\n",
      "max_page: 183\n",
      "next_page: /api/v1/sales?page=21\n",
      "max_page: 183\n",
      "next_page: /api/v1/sales?page=22\n",
      "max_page: 183\n",
      "next_page: /api/v1/sales?page=23\n",
      "max_page: 183\n",
      "next_page: /api/v1/sales?page=24\n",
      "max_page: 183\n",
      "next_page: /api/v1/sales?page=25\n",
      "max_page: 183\n",
      "next_page: /api/v1/sales?page=26\n",
      "max_page: 183\n",
      "next_page: /api/v1/sales?page=27\n",
      "max_page: 183\n",
      "next_page: /api/v1/sales?page=28\n",
      "max_page: 183\n",
      "next_page: /api/v1/sales?page=29\n",
      "max_page: 183\n",
      "next_page: /api/v1/sales?page=30\n",
      "max_page: 183\n",
      "next_page: /api/v1/sales?page=31\n",
      "max_page: 183\n",
      "next_page: /api/v1/sales?page=32\n",
      "max_page: 183\n",
      "next_page: /api/v1/sales?page=33\n",
      "max_page: 183\n",
      "next_page: /api/v1/sales?page=34\n",
      "max_page: 183\n",
      "next_page: /api/v1/sales?page=35\n",
      "max_page: 183\n",
      "next_page: /api/v1/sales?page=36\n",
      "max_page: 183\n",
      "next_page: /api/v1/sales?page=37\n",
      "max_page: 183\n",
      "next_page: /api/v1/sales?page=38\n",
      "max_page: 183\n",
      "next_page: /api/v1/sales?page=39\n",
      "max_page: 183\n",
      "next_page: /api/v1/sales?page=40\n",
      "max_page: 183\n",
      "next_page: /api/v1/sales?page=41\n",
      "max_page: 183\n",
      "next_page: /api/v1/sales?page=42\n",
      "max_page: 183\n",
      "next_page: /api/v1/sales?page=43\n",
      "max_page: 183\n",
      "next_page: /api/v1/sales?page=44\n",
      "max_page: 183\n",
      "next_page: /api/v1/sales?page=45\n",
      "max_page: 183\n",
      "next_page: /api/v1/sales?page=46\n",
      "max_page: 183\n",
      "next_page: /api/v1/sales?page=47\n",
      "max_page: 183\n",
      "next_page: /api/v1/sales?page=48\n",
      "max_page: 183\n",
      "next_page: /api/v1/sales?page=49\n",
      "max_page: 183\n",
      "next_page: /api/v1/sales?page=50\n",
      "max_page: 183\n",
      "next_page: /api/v1/sales?page=51\n",
      "max_page: 183\n",
      "next_page: /api/v1/sales?page=52\n",
      "max_page: 183\n",
      "next_page: /api/v1/sales?page=53\n",
      "max_page: 183\n",
      "next_page: /api/v1/sales?page=54\n",
      "max_page: 183\n",
      "next_page: /api/v1/sales?page=55\n",
      "max_page: 183\n",
      "next_page: /api/v1/sales?page=56\n",
      "max_page: 183\n",
      "next_page: /api/v1/sales?page=57\n",
      "max_page: 183\n",
      "next_page: /api/v1/sales?page=58\n",
      "max_page: 183\n",
      "next_page: /api/v1/sales?page=59\n",
      "max_page: 183\n",
      "next_page: /api/v1/sales?page=60\n",
      "max_page: 183\n",
      "next_page: /api/v1/sales?page=61\n",
      "max_page: 183\n",
      "next_page: /api/v1/sales?page=62\n",
      "max_page: 183\n",
      "next_page: /api/v1/sales?page=63\n",
      "max_page: 183\n",
      "next_page: /api/v1/sales?page=64\n",
      "max_page: 183\n",
      "next_page: /api/v1/sales?page=65\n",
      "max_page: 183\n",
      "next_page: /api/v1/sales?page=66\n",
      "max_page: 183\n",
      "next_page: /api/v1/sales?page=67\n",
      "max_page: 183\n",
      "next_page: /api/v1/sales?page=68\n",
      "max_page: 183\n",
      "next_page: /api/v1/sales?page=69\n",
      "max_page: 183\n",
      "next_page: /api/v1/sales?page=70\n",
      "max_page: 183\n",
      "next_page: /api/v1/sales?page=71\n",
      "max_page: 183\n",
      "next_page: /api/v1/sales?page=72\n",
      "max_page: 183\n",
      "next_page: /api/v1/sales?page=73\n",
      "max_page: 183\n",
      "next_page: /api/v1/sales?page=74\n",
      "max_page: 183\n",
      "next_page: /api/v1/sales?page=75\n",
      "max_page: 183\n",
      "next_page: /api/v1/sales?page=76\n",
      "max_page: 183\n",
      "next_page: /api/v1/sales?page=77\n",
      "max_page: 183\n",
      "next_page: /api/v1/sales?page=78\n",
      "max_page: 183\n",
      "next_page: /api/v1/sales?page=79\n",
      "max_page: 183\n",
      "next_page: /api/v1/sales?page=80\n",
      "max_page: 183\n",
      "next_page: /api/v1/sales?page=81\n",
      "max_page: 183\n",
      "next_page: /api/v1/sales?page=82\n",
      "max_page: 183\n",
      "next_page: /api/v1/sales?page=83\n",
      "max_page: 183\n",
      "next_page: /api/v1/sales?page=84\n",
      "max_page: 183\n",
      "next_page: /api/v1/sales?page=85\n",
      "max_page: 183\n",
      "next_page: /api/v1/sales?page=86\n",
      "max_page: 183\n",
      "next_page: /api/v1/sales?page=87\n",
      "max_page: 183\n",
      "next_page: /api/v1/sales?page=88\n",
      "max_page: 183\n",
      "next_page: /api/v1/sales?page=89\n",
      "max_page: 183\n",
      "next_page: /api/v1/sales?page=90\n",
      "max_page: 183\n",
      "next_page: /api/v1/sales?page=91\n",
      "max_page: 183\n",
      "next_page: /api/v1/sales?page=92\n",
      "max_page: 183\n",
      "next_page: /api/v1/sales?page=93\n",
      "max_page: 183\n",
      "next_page: /api/v1/sales?page=94\n",
      "max_page: 183\n",
      "next_page: /api/v1/sales?page=95\n",
      "max_page: 183\n",
      "next_page: /api/v1/sales?page=96\n",
      "max_page: 183\n",
      "next_page: /api/v1/sales?page=97\n",
      "max_page: 183\n",
      "next_page: /api/v1/sales?page=98\n",
      "max_page: 183\n",
      "next_page: /api/v1/sales?page=99\n",
      "max_page: 183\n",
      "next_page: /api/v1/sales?page=100\n",
      "max_page: 183\n",
      "next_page: /api/v1/sales?page=101\n",
      "max_page: 183\n",
      "next_page: /api/v1/sales?page=102\n",
      "max_page: 183\n",
      "next_page: /api/v1/sales?page=103\n",
      "max_page: 183\n",
      "next_page: /api/v1/sales?page=104\n",
      "max_page: 183\n",
      "next_page: /api/v1/sales?page=105\n",
      "max_page: 183\n",
      "next_page: /api/v1/sales?page=106\n",
      "max_page: 183\n",
      "next_page: /api/v1/sales?page=107\n",
      "max_page: 183\n",
      "next_page: /api/v1/sales?page=108\n",
      "max_page: 183\n",
      "next_page: /api/v1/sales?page=109\n",
      "max_page: 183\n",
      "next_page: /api/v1/sales?page=110\n",
      "max_page: 183\n",
      "next_page: /api/v1/sales?page=111\n",
      "max_page: 183\n",
      "next_page: /api/v1/sales?page=112\n",
      "max_page: 183\n",
      "next_page: /api/v1/sales?page=113\n",
      "max_page: 183\n",
      "next_page: /api/v1/sales?page=114\n",
      "max_page: 183\n",
      "next_page: /api/v1/sales?page=115\n",
      "max_page: 183\n",
      "next_page: /api/v1/sales?page=116\n",
      "max_page: 183\n",
      "next_page: /api/v1/sales?page=117\n",
      "max_page: 183\n",
      "next_page: /api/v1/sales?page=118\n",
      "max_page: 183\n",
      "next_page: /api/v1/sales?page=119\n",
      "max_page: 183\n",
      "next_page: /api/v1/sales?page=120\n",
      "max_page: 183\n",
      "next_page: /api/v1/sales?page=121\n",
      "max_page: 183\n",
      "next_page: /api/v1/sales?page=122\n",
      "max_page: 183\n",
      "next_page: /api/v1/sales?page=123\n",
      "max_page: 183\n",
      "next_page: /api/v1/sales?page=124\n",
      "max_page: 183\n",
      "next_page: /api/v1/sales?page=125\n",
      "max_page: 183\n",
      "next_page: /api/v1/sales?page=126\n",
      "max_page: 183\n",
      "next_page: /api/v1/sales?page=127\n",
      "max_page: 183\n",
      "next_page: /api/v1/sales?page=128\n",
      "max_page: 183\n",
      "next_page: /api/v1/sales?page=129\n",
      "max_page: 183\n",
      "next_page: /api/v1/sales?page=130\n",
      "max_page: 183\n",
      "next_page: /api/v1/sales?page=131\n",
      "max_page: 183\n",
      "next_page: /api/v1/sales?page=132\n",
      "max_page: 183\n",
      "next_page: /api/v1/sales?page=133\n",
      "max_page: 183\n",
      "next_page: /api/v1/sales?page=134\n",
      "max_page: 183\n",
      "next_page: /api/v1/sales?page=135\n",
      "max_page: 183\n",
      "next_page: /api/v1/sales?page=136\n",
      "max_page: 183\n",
      "next_page: /api/v1/sales?page=137\n",
      "max_page: 183\n",
      "next_page: /api/v1/sales?page=138\n",
      "max_page: 183\n",
      "next_page: /api/v1/sales?page=139\n",
      "max_page: 183\n",
      "next_page: /api/v1/sales?page=140\n",
      "max_page: 183\n",
      "next_page: /api/v1/sales?page=141\n",
      "max_page: 183\n",
      "next_page: /api/v1/sales?page=142\n",
      "max_page: 183\n",
      "next_page: /api/v1/sales?page=143\n",
      "max_page: 183\n",
      "next_page: /api/v1/sales?page=144\n",
      "max_page: 183\n",
      "next_page: /api/v1/sales?page=145\n",
      "max_page: 183\n",
      "next_page: /api/v1/sales?page=146\n",
      "max_page: 183\n",
      "next_page: /api/v1/sales?page=147\n",
      "max_page: 183\n",
      "next_page: /api/v1/sales?page=148\n",
      "max_page: 183\n",
      "next_page: /api/v1/sales?page=149\n",
      "max_page: 183\n",
      "next_page: /api/v1/sales?page=150\n",
      "max_page: 183\n",
      "next_page: /api/v1/sales?page=151\n",
      "max_page: 183\n",
      "next_page: /api/v1/sales?page=152\n",
      "max_page: 183\n",
      "next_page: /api/v1/sales?page=153\n",
      "max_page: 183\n",
      "next_page: /api/v1/sales?page=154\n",
      "max_page: 183\n",
      "next_page: /api/v1/sales?page=155\n",
      "max_page: 183\n",
      "next_page: /api/v1/sales?page=156\n",
      "max_page: 183\n",
      "next_page: /api/v1/sales?page=157\n",
      "max_page: 183\n",
      "next_page: /api/v1/sales?page=158\n",
      "max_page: 183\n",
      "next_page: /api/v1/sales?page=159\n",
      "max_page: 183\n",
      "next_page: /api/v1/sales?page=160\n",
      "max_page: 183\n",
      "next_page: /api/v1/sales?page=161\n",
      "max_page: 183\n",
      "next_page: /api/v1/sales?page=162\n",
      "max_page: 183\n",
      "next_page: /api/v1/sales?page=163\n",
      "max_page: 183\n",
      "next_page: /api/v1/sales?page=164\n",
      "max_page: 183\n",
      "next_page: /api/v1/sales?page=165\n",
      "max_page: 183\n",
      "next_page: /api/v1/sales?page=166\n",
      "max_page: 183\n",
      "next_page: /api/v1/sales?page=167\n",
      "max_page: 183\n",
      "next_page: /api/v1/sales?page=168\n",
      "max_page: 183\n",
      "next_page: /api/v1/sales?page=169\n",
      "max_page: 183\n",
      "next_page: /api/v1/sales?page=170\n",
      "max_page: 183\n",
      "next_page: /api/v1/sales?page=171\n",
      "max_page: 183\n",
      "next_page: /api/v1/sales?page=172\n",
      "max_page: 183\n",
      "next_page: /api/v1/sales?page=173\n",
      "max_page: 183\n",
      "next_page: /api/v1/sales?page=174\n"
     ]
    },
    {
     "name": "stdout",
     "output_type": "stream",
     "text": [
      "max_page: 183\n",
      "next_page: /api/v1/sales?page=175\n",
      "max_page: 183\n",
      "next_page: /api/v1/sales?page=176\n",
      "max_page: 183\n",
      "next_page: /api/v1/sales?page=177\n",
      "max_page: 183\n",
      "next_page: /api/v1/sales?page=178\n",
      "max_page: 183\n",
      "next_page: /api/v1/sales?page=179\n",
      "max_page: 183\n",
      "next_page: /api/v1/sales?page=180\n",
      "max_page: 183\n",
      "next_page: /api/v1/sales?page=181\n",
      "max_page: 183\n",
      "next_page: /api/v1/sales?page=182\n",
      "max_page: 183\n",
      "next_page: /api/v1/sales?page=183\n",
      "max_page: 183\n",
      "next_page: None\n",
      "full_shape (913000, 6)\n"
     ]
    }
   ],
   "source": [
    "salesdf = get_sales(base_url2, salesdf)"
   ]
  },
  {
   "cell_type": "code",
   "execution_count": 90,
   "metadata": {},
   "outputs": [],
   "source": [
    "# 4. Save the data in your files to local csv files so that it will be faster to access in the future.\n",
    "# employees.to_csv('employees_df.csv')\n",
    "\n",
    "df.to_csv('items.csv')\n",
    "storesdf.to_csv('stores.csv')\n",
    "salesdf.to_csv('sales.csv')\n"
   ]
  },
  {
   "cell_type": "code",
   "execution_count": 69,
   "metadata": {},
   "outputs": [
    {
     "data": {
      "text/html": [
       "<div>\n",
       "<style scoped>\n",
       "    .dataframe tbody tr th:only-of-type {\n",
       "        vertical-align: middle;\n",
       "    }\n",
       "\n",
       "    .dataframe tbody tr th {\n",
       "        vertical-align: top;\n",
       "    }\n",
       "\n",
       "    .dataframe thead th {\n",
       "        text-align: right;\n",
       "    }\n",
       "</style>\n",
       "<table border=\"1\" class=\"dataframe\">\n",
       "  <thead>\n",
       "    <tr style=\"text-align: right;\">\n",
       "      <th></th>\n",
       "      <th>level_0</th>\n",
       "      <th>index</th>\n",
       "      <th>item_brand</th>\n",
       "      <th>item_id</th>\n",
       "      <th>item_name</th>\n",
       "      <th>item_price</th>\n",
       "      <th>item_upc12</th>\n",
       "      <th>item_upc14</th>\n",
       "    </tr>\n",
       "  </thead>\n",
       "  <tbody>\n",
       "    <tr>\n",
       "      <th>0</th>\n",
       "      <td>0</td>\n",
       "      <td>0.0</td>\n",
       "      <td>Riceland</td>\n",
       "      <td>1</td>\n",
       "      <td>Riceland American Jazmine Rice</td>\n",
       "      <td>0.84</td>\n",
       "      <td>35200264013</td>\n",
       "      <td>35200264013</td>\n",
       "    </tr>\n",
       "    <tr>\n",
       "      <th>1</th>\n",
       "      <td>1</td>\n",
       "      <td>1.0</td>\n",
       "      <td>Caress</td>\n",
       "      <td>2</td>\n",
       "      <td>Caress Velvet Bliss Ultra Silkening Beauty Bar...</td>\n",
       "      <td>6.44</td>\n",
       "      <td>11111065925</td>\n",
       "      <td>11111065925</td>\n",
       "    </tr>\n",
       "    <tr>\n",
       "      <th>2</th>\n",
       "      <td>2</td>\n",
       "      <td>2.0</td>\n",
       "      <td>Earths Best</td>\n",
       "      <td>3</td>\n",
       "      <td>Earths Best Organic Fruit Yogurt Smoothie Mixe...</td>\n",
       "      <td>2.43</td>\n",
       "      <td>23923330139</td>\n",
       "      <td>23923330139</td>\n",
       "    </tr>\n",
       "    <tr>\n",
       "      <th>3</th>\n",
       "      <td>3</td>\n",
       "      <td>3.0</td>\n",
       "      <td>Boars Head</td>\n",
       "      <td>4</td>\n",
       "      <td>Boars Head Sliced White American Cheese - 120 Ct</td>\n",
       "      <td>3.14</td>\n",
       "      <td>208528800007</td>\n",
       "      <td>208528800007</td>\n",
       "    </tr>\n",
       "    <tr>\n",
       "      <th>4</th>\n",
       "      <td>4</td>\n",
       "      <td>4.0</td>\n",
       "      <td>Back To Nature</td>\n",
       "      <td>5</td>\n",
       "      <td>Back To Nature Gluten Free White Cheddar Rice ...</td>\n",
       "      <td>2.61</td>\n",
       "      <td>759283100036</td>\n",
       "      <td>759283100036</td>\n",
       "    </tr>\n",
       "  </tbody>\n",
       "</table>\n",
       "</div>"
      ],
      "text/plain": [
       "   level_0  index      item_brand  item_id  \\\n",
       "0        0    0.0        Riceland        1   \n",
       "1        1    1.0          Caress        2   \n",
       "2        2    2.0     Earths Best        3   \n",
       "3        3    3.0      Boars Head        4   \n",
       "4        4    4.0  Back To Nature        5   \n",
       "\n",
       "                                           item_name  item_price  \\\n",
       "0                     Riceland American Jazmine Rice        0.84   \n",
       "1  Caress Velvet Bliss Ultra Silkening Beauty Bar...        6.44   \n",
       "2  Earths Best Organic Fruit Yogurt Smoothie Mixe...        2.43   \n",
       "3   Boars Head Sliced White American Cheese - 120 Ct        3.14   \n",
       "4  Back To Nature Gluten Free White Cheddar Rice ...        2.61   \n",
       "\n",
       "     item_upc12    item_upc14  \n",
       "0   35200264013   35200264013  \n",
       "1   11111065925   11111065925  \n",
       "2   23923330139   23923330139  \n",
       "3  208528800007  208528800007  \n",
       "4  759283100036  759283100036  "
      ]
     },
     "execution_count": 69,
     "metadata": {},
     "output_type": "execute_result"
    }
   ],
   "source": [
    "df.head()"
   ]
  },
  {
   "cell_type": "code",
   "execution_count": 70,
   "metadata": {},
   "outputs": [
    {
     "data": {
      "text/html": [
       "<div>\n",
       "<style scoped>\n",
       "    .dataframe tbody tr th:only-of-type {\n",
       "        vertical-align: middle;\n",
       "    }\n",
       "\n",
       "    .dataframe tbody tr th {\n",
       "        vertical-align: top;\n",
       "    }\n",
       "\n",
       "    .dataframe thead th {\n",
       "        text-align: right;\n",
       "    }\n",
       "</style>\n",
       "<table border=\"1\" class=\"dataframe\">\n",
       "  <thead>\n",
       "    <tr style=\"text-align: right;\">\n",
       "      <th></th>\n",
       "      <th>store_address</th>\n",
       "      <th>store_city</th>\n",
       "      <th>store_id</th>\n",
       "      <th>store_state</th>\n",
       "      <th>store_zipcode</th>\n",
       "    </tr>\n",
       "  </thead>\n",
       "  <tbody>\n",
       "    <tr>\n",
       "      <th>0</th>\n",
       "      <td>12125 Alamo Ranch Pkwy</td>\n",
       "      <td>San Antonio</td>\n",
       "      <td>1</td>\n",
       "      <td>TX</td>\n",
       "      <td>78253</td>\n",
       "    </tr>\n",
       "    <tr>\n",
       "      <th>1</th>\n",
       "      <td>9255 FM 471 West</td>\n",
       "      <td>San Antonio</td>\n",
       "      <td>2</td>\n",
       "      <td>TX</td>\n",
       "      <td>78251</td>\n",
       "    </tr>\n",
       "    <tr>\n",
       "      <th>2</th>\n",
       "      <td>2118 Fredericksburg Rdj</td>\n",
       "      <td>San Antonio</td>\n",
       "      <td>3</td>\n",
       "      <td>TX</td>\n",
       "      <td>78201</td>\n",
       "    </tr>\n",
       "    <tr>\n",
       "      <th>3</th>\n",
       "      <td>516 S Flores St</td>\n",
       "      <td>San Antonio</td>\n",
       "      <td>4</td>\n",
       "      <td>TX</td>\n",
       "      <td>78204</td>\n",
       "    </tr>\n",
       "    <tr>\n",
       "      <th>4</th>\n",
       "      <td>1520 Austin Hwy</td>\n",
       "      <td>San Antonio</td>\n",
       "      <td>5</td>\n",
       "      <td>TX</td>\n",
       "      <td>78218</td>\n",
       "    </tr>\n",
       "  </tbody>\n",
       "</table>\n",
       "</div>"
      ],
      "text/plain": [
       "             store_address   store_city  store_id store_state store_zipcode\n",
       "0   12125 Alamo Ranch Pkwy  San Antonio         1          TX         78253\n",
       "1         9255 FM 471 West  San Antonio         2          TX         78251\n",
       "2  2118 Fredericksburg Rdj  San Antonio         3          TX         78201\n",
       "3          516 S Flores St  San Antonio         4          TX         78204\n",
       "4          1520 Austin Hwy  San Antonio         5          TX         78218"
      ]
     },
     "execution_count": 70,
     "metadata": {},
     "output_type": "execute_result"
    }
   ],
   "source": [
    "storesdf.head()"
   ]
  },
  {
   "cell_type": "code",
   "execution_count": 84,
   "metadata": {},
   "outputs": [
    {
     "data": {
      "text/html": [
       "<div>\n",
       "<style scoped>\n",
       "    .dataframe tbody tr th:only-of-type {\n",
       "        vertical-align: middle;\n",
       "    }\n",
       "\n",
       "    .dataframe tbody tr th {\n",
       "        vertical-align: top;\n",
       "    }\n",
       "\n",
       "    .dataframe thead th {\n",
       "        text-align: right;\n",
       "    }\n",
       "</style>\n",
       "<table border=\"1\" class=\"dataframe\">\n",
       "  <thead>\n",
       "    <tr style=\"text-align: right;\">\n",
       "      <th></th>\n",
       "      <th>index</th>\n",
       "      <th>item</th>\n",
       "      <th>sale_amount</th>\n",
       "      <th>sale_date</th>\n",
       "      <th>sale_id</th>\n",
       "      <th>store</th>\n",
       "    </tr>\n",
       "  </thead>\n",
       "  <tbody>\n",
       "    <tr>\n",
       "      <th>0</th>\n",
       "      <td>0</td>\n",
       "      <td>1</td>\n",
       "      <td>13.0</td>\n",
       "      <td>Tue, 01 Jan 2013 00:00:00 GMT</td>\n",
       "      <td>1</td>\n",
       "      <td>1</td>\n",
       "    </tr>\n",
       "    <tr>\n",
       "      <th>1</th>\n",
       "      <td>1</td>\n",
       "      <td>1</td>\n",
       "      <td>11.0</td>\n",
       "      <td>Wed, 02 Jan 2013 00:00:00 GMT</td>\n",
       "      <td>2</td>\n",
       "      <td>1</td>\n",
       "    </tr>\n",
       "    <tr>\n",
       "      <th>2</th>\n",
       "      <td>2</td>\n",
       "      <td>1</td>\n",
       "      <td>14.0</td>\n",
       "      <td>Thu, 03 Jan 2013 00:00:00 GMT</td>\n",
       "      <td>3</td>\n",
       "      <td>1</td>\n",
       "    </tr>\n",
       "    <tr>\n",
       "      <th>3</th>\n",
       "      <td>3</td>\n",
       "      <td>1</td>\n",
       "      <td>13.0</td>\n",
       "      <td>Fri, 04 Jan 2013 00:00:00 GMT</td>\n",
       "      <td>4</td>\n",
       "      <td>1</td>\n",
       "    </tr>\n",
       "    <tr>\n",
       "      <th>4</th>\n",
       "      <td>4</td>\n",
       "      <td>1</td>\n",
       "      <td>10.0</td>\n",
       "      <td>Sat, 05 Jan 2013 00:00:00 GMT</td>\n",
       "      <td>5</td>\n",
       "      <td>1</td>\n",
       "    </tr>\n",
       "  </tbody>\n",
       "</table>\n",
       "</div>"
      ],
      "text/plain": [
       "   index  item  sale_amount                      sale_date  sale_id  store\n",
       "0      0     1         13.0  Tue, 01 Jan 2013 00:00:00 GMT        1      1\n",
       "1      1     1         11.0  Wed, 02 Jan 2013 00:00:00 GMT        2      1\n",
       "2      2     1         14.0  Thu, 03 Jan 2013 00:00:00 GMT        3      1\n",
       "3      3     1         13.0  Fri, 04 Jan 2013 00:00:00 GMT        4      1\n",
       "4      4     1         10.0  Sat, 05 Jan 2013 00:00:00 GMT        5      1"
      ]
     },
     "execution_count": 84,
     "metadata": {},
     "output_type": "execute_result"
    }
   ],
   "source": [
    "salesdf.head()"
   ]
  },
  {
   "cell_type": "code",
   "execution_count": 85,
   "metadata": {},
   "outputs": [],
   "source": [
    "# 5.Combine the data from your three separate dataframes into one large dataframe.\n",
    "\n",
    "fulldf = salesdf.merge(storesdf, left_on='store', right_on='store_id')"
   ]
  },
  {
   "cell_type": "code",
   "execution_count": 87,
   "metadata": {},
   "outputs": [],
   "source": [
    "fulldf = fulldf.merge(df, left_on='item', right_on='item_id')"
   ]
  },
  {
   "cell_type": "code",
   "execution_count": 89,
   "metadata": {},
   "outputs": [
    {
     "data": {
      "text/plain": [
       "(913000, 19)"
      ]
     },
     "execution_count": 89,
     "metadata": {},
     "output_type": "execute_result"
    }
   ],
   "source": [
    "fulldf.shape"
   ]
  },
  {
   "cell_type": "code",
   "execution_count": 91,
   "metadata": {},
   "outputs": [],
   "source": [
    "fulldf.to_csv('alldf.csv')"
   ]
  },
  {
   "cell_type": "markdown",
   "metadata": {},
   "source": [
    "6. Acquire the Open Power Systems Data for Germany, which has been rapidly expanding its renewable energy production in recent years. The data set includes country-wide totals of electricity consumption, wind power production, and solar power production for 2006-2017. You can get the data here: https://raw.githubusercontent.com/jenfly/opsd/master/opsd_germany_daily.csv"
   ]
  },
  {
   "cell_type": "code",
   "execution_count": 83,
   "metadata": {},
   "outputs": [
    {
     "data": {
      "text/html": [
       "<div>\n",
       "<style scoped>\n",
       "    .dataframe tbody tr th:only-of-type {\n",
       "        vertical-align: middle;\n",
       "    }\n",
       "\n",
       "    .dataframe tbody tr th {\n",
       "        vertical-align: top;\n",
       "    }\n",
       "\n",
       "    .dataframe thead th {\n",
       "        text-align: right;\n",
       "    }\n",
       "</style>\n",
       "<table border=\"1\" class=\"dataframe\">\n",
       "  <thead>\n",
       "    <tr style=\"text-align: right;\">\n",
       "      <th></th>\n",
       "      <th>Date</th>\n",
       "      <th>Consumption</th>\n",
       "      <th>Wind</th>\n",
       "      <th>Solar</th>\n",
       "      <th>Wind+Solar</th>\n",
       "    </tr>\n",
       "  </thead>\n",
       "  <tbody>\n",
       "    <tr>\n",
       "      <th>0</th>\n",
       "      <td>2006-01-01</td>\n",
       "      <td>1069.184</td>\n",
       "      <td>NaN</td>\n",
       "      <td>NaN</td>\n",
       "      <td>NaN</td>\n",
       "    </tr>\n",
       "    <tr>\n",
       "      <th>1</th>\n",
       "      <td>2006-01-02</td>\n",
       "      <td>1380.521</td>\n",
       "      <td>NaN</td>\n",
       "      <td>NaN</td>\n",
       "      <td>NaN</td>\n",
       "    </tr>\n",
       "    <tr>\n",
       "      <th>2</th>\n",
       "      <td>2006-01-03</td>\n",
       "      <td>1442.533</td>\n",
       "      <td>NaN</td>\n",
       "      <td>NaN</td>\n",
       "      <td>NaN</td>\n",
       "    </tr>\n",
       "    <tr>\n",
       "      <th>3</th>\n",
       "      <td>2006-01-04</td>\n",
       "      <td>1457.217</td>\n",
       "      <td>NaN</td>\n",
       "      <td>NaN</td>\n",
       "      <td>NaN</td>\n",
       "    </tr>\n",
       "    <tr>\n",
       "      <th>4</th>\n",
       "      <td>2006-01-05</td>\n",
       "      <td>1477.131</td>\n",
       "      <td>NaN</td>\n",
       "      <td>NaN</td>\n",
       "      <td>NaN</td>\n",
       "    </tr>\n",
       "  </tbody>\n",
       "</table>\n",
       "</div>"
      ],
      "text/plain": [
       "         Date  Consumption  Wind  Solar  Wind+Solar\n",
       "0  2006-01-01     1069.184   NaN    NaN         NaN\n",
       "1  2006-01-02     1380.521   NaN    NaN         NaN\n",
       "2  2006-01-03     1442.533   NaN    NaN         NaN\n",
       "3  2006-01-04     1457.217   NaN    NaN         NaN\n",
       "4  2006-01-05     1477.131   NaN    NaN         NaN"
      ]
     },
     "execution_count": 83,
     "metadata": {},
     "output_type": "execute_result"
    }
   ],
   "source": [
    "germany = pd.read_csv('https://raw.githubusercontent.com/jenfly/opsd/master/opsd_germany_daily.csv')\n",
    "germany.head()"
   ]
  },
  {
   "cell_type": "code",
   "execution_count": 92,
   "metadata": {},
   "outputs": [
    {
     "data": {
      "text/plain": [
       "Date              0\n",
       "Consumption       0\n",
       "Wind           1463\n",
       "Solar          2195\n",
       "Wind+Solar     2196\n",
       "dtype: int64"
      ]
     },
     "execution_count": 92,
     "metadata": {},
     "output_type": "execute_result"
    }
   ],
   "source": [
    "germany.isna().sum()"
   ]
  },
  {
   "cell_type": "code",
   "execution_count": null,
   "metadata": {},
   "outputs": [],
   "source": [
    "def read_url_csv(url):\n",
    "    df = pd.read_csv(url)\n",
    "    return df"
   ]
  }
 ],
 "metadata": {
  "kernelspec": {
   "display_name": "Python 3",
   "language": "python",
   "name": "python3"
  },
  "language_info": {
   "codemirror_mode": {
    "name": "ipython",
    "version": 3
   },
   "file_extension": ".py",
   "mimetype": "text/x-python",
   "name": "python",
   "nbconvert_exporter": "python",
   "pygments_lexer": "ipython3",
   "version": "3.7.6"
  },
  "toc": {
   "base_numbering": 1,
   "nav_menu": {},
   "number_sections": true,
   "sideBar": true,
   "skip_h1_title": false,
   "title_cell": "Table of Contents",
   "title_sidebar": "Contents",
   "toc_cell": false,
   "toc_position": {},
   "toc_section_display": true,
   "toc_window_display": false
  }
 },
 "nbformat": 4,
 "nbformat_minor": 4
}
